{
 "cells": [
  {
   "cell_type": "markdown",
   "metadata": {},
   "source": [
    "##### ### The University of Melbourne, School of Computing and Information Systems\n",
    "# COMP30027 Machine Learning, 2025 Semester 1\n",
    "\n",
    "## Assignment 1: Scam detection with naive Bayes\n"
   ]
  },
  {
   "cell_type": "markdown",
   "metadata": {},
   "source": [
    "**Student ID(s):**     `1375531`\n"
   ]
  },
  {
   "cell_type": "markdown",
   "metadata": {},
   "source": [
    "## IMPORTANT\n",
    "Ensure random state for train/validation data split is set to `777`  to ensure reproducibility."
   ]
  },
  {
   "cell_type": "code",
   "execution_count": 1,
   "metadata": {},
   "outputs": [],
   "source": [
    "# Import libraries\n",
    "import pandas as pd\n",
    "import numpy as np\n",
    "import seaborn as sns\n",
    "import matplotlib.pyplot as plt\n",
    "from sklearn.metrics import accuracy_score, precision_score, recall_score\n",
    "from sklearn.model_selection import train_test_split\n",
    "\n",
    "# Read data\n",
    "train_df = pd.read_csv('./sms_supervised_train.csv')\n",
    "test_df = pd.read_csv('./sms_test.csv')\n",
    "\n",
    "# Define constants\n",
    "NON_MALICIOUS_CLASS = 0\n",
    "SCAM_CLASS = 1\n",
    "ORIGINAL_TEXT_COLUMN = 'textOriginal'\n",
    "PREPROCESSED_TEXT_COLUMN = 'textPreprocessed'\n",
    "CLASS_COLUMN = 'class'\n",
    "TRUE_LABEL_COLUMN = 'true_label'\n",
    "PREDICTED_LABEL_COLUMN = 'predicted_label'\n",
    "CONFIDENCE_RATIO_COLUMN = 'confidence_ratio'"
   ]
  },
  {
   "cell_type": "markdown",
   "metadata": {},
   "source": [
    "### Function definitions"
   ]
  },
  {
   "cell_type": "code",
   "execution_count": 2,
   "metadata": {},
   "outputs": [],
   "source": [
    "def preprocess(data):\n",
    "    \"\"\"\n",
    "    Cleans input pandas DataFrame by removing NaNs and \n",
    "    tokenising the preeprocessed text column.\n",
    "    \n",
    "    Returns:\n",
    "        - data: cleaned pandas DataFrame\n",
    "        - tokenised_instances: a Series of lists of tokenised words\n",
    "    \"\"\"\n",
    "    data = data.dropna(subset=[PREPROCESSED_TEXT_COLUMN]).reset_index(drop=True)\n",
    "    tokenised_instances = data[PREPROCESSED_TEXT_COLUMN].apply(lambda x: x.split())\n",
    "    \n",
    "    return data, tokenised_instances\n",
    "\n",
    "\n",
    "def create_vocabulary(tokenised_instances):\n",
    "    \"\"\"\n",
    "    Creates a set of unique words from the tokenised instances\n",
    "    \n",
    "    Returns:\n",
    "        - vocabulary: a sorted list of unique words \n",
    "    \"\"\"\n",
    "    vocabulary = set()\n",
    "    \n",
    "    for instance in tokenised_instances:\n",
    "        for token in instance:\n",
    "            vocabulary.add(token)\n",
    "    \n",
    "    return sorted(vocabulary)\n",
    "\n",
    "\n",
    "def create_count_matrix(tokenised_instances, vocabulary):\n",
    "    \"\"\"\n",
    "    Creates a count matrix where the rows are the message instances, and the \n",
    "    columns are all the unique vocabulary words. Each cell in the matrix \n",
    "    represents the number of times a given word appears in a given message\n",
    "    instance.\n",
    "    \n",
    "    Returns:\n",
    "        - count_matrix: pandas DataFrame\n",
    "    \"\"\"\n",
    "    count_matrix = pd.DataFrame(0, index=tokenised_instances.index, columns=vocabulary)\n",
    "    \n",
    "    for index, instance in enumerate(tokenised_instances):\n",
    "        for token in instance:\n",
    "            count_matrix.at[index, token] += 1\n",
    "    \n",
    "    return count_matrix\n",
    "\n",
    "\n",
    "def compute_priors(data):\n",
    "    \"\"\"\n",
    "    Computes the prior probability P(class=c) for each class c. Refer\n",
    "    to equation (1) in the assignment spec.\n",
    "    \n",
    "    Returns:\n",
    "        - priors: a pandas Series of the respective prior probabilities \n",
    "          for each class.\n",
    "    \"\"\"\n",
    "    instances_by_class = data[CLASS_COLUMN].value_counts()\n",
    "    total_instances = len(data)\n",
    "    priors = instances_by_class.apply(lambda x: x / total_instances) \n",
    "    \n",
    "    return priors\n",
    "\n",
    "\n",
    "def compute_likelihoods(data, count_matrix, vocabulary, alpha=1):\n",
    "    \"\"\"\n",
    "    Computes likelihoods P(word=w|class=c) for each word w within each class c.\n",
    "    Additionally, implements Laplace smoothing. Refer to equation (3) in the \n",
    "    assignment spec.\n",
    "    \n",
    "    Returns:\n",
    "        - likelihoods: a 2D dictionary which stores all the likelihood values \n",
    "          for each word within each class.\n",
    "    \"\"\"\n",
    "    likelihoods = {}\n",
    "    classes = data[CLASS_COLUMN].unique()\n",
    "    \n",
    "    for c in classes:\n",
    "        # create a subset of count_matrix to only include instances of class c\n",
    "        indices_of_class_c = data[data[CLASS_COLUMN] == c].index\n",
    "        count_matrix_within_c = count_matrix.loc[indices_of_class_c]\n",
    "        \n",
    "        # count how many times each word appears\n",
    "        word_counts = count_matrix_within_c.sum()\n",
    "        # count the total amount of words in class c\n",
    "        total_word_count = word_counts.sum()\n",
    "        \n",
    "        # compute and store likelihoods of all the words in class c\n",
    "        likelihoods_within_c = {}\n",
    "        for word in vocabulary:\n",
    "            word_count = word_counts[word]\n",
    "            likelihood = (word_count + alpha) / (total_word_count + len(vocabulary) * alpha)\n",
    "            likelihoods_within_c[word] = likelihood\n",
    "        \n",
    "        likelihoods[c] = likelihoods_within_c\n",
    "    \n",
    "    return likelihoods\n",
    "\n",
    "\n",
    "def create_count_vector(instance, vocabulary):\n",
    "    \"\"\"\n",
    "    Creates a word count vector for an instance based on the vocabulary\n",
    "    given.\n",
    "\n",
    "    Returns: \n",
    "        - count_vector: pandas Series indexed by vocabulary words, and stores \n",
    "          their respective word counts.\n",
    "    \"\"\"\n",
    "    count_vector = pd.Series(0, index=vocabulary)\n",
    "    \n",
    "    for token in instance:\n",
    "        count_vector[token] += 1\n",
    "    \n",
    "    return count_vector\n",
    "\n",
    "\n",
    "def compute_log_posteriors(count_vector, priors, likelihoods, vocabulary):\n",
    "    \"\"\"\n",
    "    Computes the log posterior of an instance (count_vector) for each class.\n",
    "    Refer to equations (5) and (6) in the assignment spec.\n",
    "\n",
    "    Notes:\n",
    "        - To prevent underflow problems, we sum the log-likelihoods instead of \n",
    "          finding the product of the likelihoods. And therefore, instead of \n",
    "          taking the power of the word count (as seen in equation (6) in the\n",
    "          assignment spec), we can bring it out as a factor of the log term.\n",
    "        - Ignore the factorial coefficient (as seen in equation (6) in the \n",
    "          assignment spec) since it's the same for each class.\n",
    "    \n",
    "    Returns:\n",
    "        - posteriors: a dictionary which stores each class (key) and their\n",
    "          respective log-posterior probability (value).\n",
    "    \"\"\"\n",
    "    log_posteriors = {}\n",
    "    \n",
    "    # for each class c\n",
    "    for c in priors.keys():\n",
    "        # initialise posterior with the log-prior P(class=c)\n",
    "        log_posterior = np.log(priors[c])\n",
    "\n",
    "        # sum all the log-likelihoods\n",
    "        for word in vocabulary:\n",
    "            word_count = count_vector[word]\n",
    "            \n",
    "            if word_count > 0:\n",
    "                log_posterior += word_count * np.log(likelihoods[c][word])\n",
    "        \n",
    "        log_posteriors[c] = log_posterior\n",
    "    \n",
    "    return log_posteriors\n",
    "\n",
    "\n",
    "def train_naive_bayes_supervised(train_df):\n",
    "    \"\"\"\n",
    "    Trains a supervised multinomial Naive Bayes model.\n",
    "    \n",
    "    Returns:\n",
    "        - priors: a pandas Series of the respective prior probabilities for \n",
    "          each class.\n",
    "        - likelihoods: a 2D dictionary which stores all the likelihood\n",
    "          values for each word within each class\n",
    "        - vocabulary: a sorted list of unique words.\n",
    "    \"\"\"\n",
    "    train_df, tokenised_instances = preprocess(train_df)\n",
    "    vocabulary = create_vocabulary(tokenised_instances)\n",
    "    count_matrix = create_count_matrix(tokenised_instances, vocabulary)\n",
    "    priors = compute_priors(train_df)\n",
    "    likelihoods = compute_likelihoods(train_df, count_matrix, vocabulary)\n",
    "    \n",
    "    return priors, likelihoods, vocabulary\n",
    "\n",
    "\n",
    "def predict_naive_bayes(test_df, priors, likelihoods, vocabulary):\n",
    "    \"\"\"\n",
    "    Predicts class labels for each instance in the test data using the\n",
    "    output from training the multinomial Naive Bayes model (priors, \n",
    "    likelihoods, vocabulary). Also calculates the confidence ratio\n",
    "    for each instance - refer to equation (8) in the assignment spec.\n",
    "    \n",
    "    Returns:\n",
    "        - pandas Dataframe with columns: 'text', 'actual_label', \n",
    "          'predicted_label', 'confidence_ratios'\n",
    "    \"\"\"\n",
    "\n",
    "    test_df, tokenised_instances = preprocess(test_df)\n",
    "    orginal_texts = test_df[ORIGINAL_TEXT_COLUMN].tolist()\n",
    "    preprocessed_texts = test_df[PREPROCESSED_TEXT_COLUMN].tolist()\n",
    "    true_labels = test_df[CLASS_COLUMN].tolist()\n",
    "    results = []\n",
    "    \n",
    "    for i, instance in enumerate(tokenised_instances):\n",
    "        # only keep tokens that were in the training set\n",
    "        instance_cleaned = []\n",
    "        for token in instance:\n",
    "            if (token in vocabulary):\n",
    "                instance_cleaned.append(token)\n",
    "        \n",
    "        # skip instance entirely if it doesn't contain any words from the training set\n",
    "        if not instance_cleaned:\n",
    "            continue\n",
    "        \n",
    "        # predict class\n",
    "        count_vector = create_count_vector(instance_cleaned, vocabulary)\n",
    "        log_posteriors = compute_log_posteriors(count_vector, priors, likelihoods, vocabulary)\n",
    "        predicted_class = max(log_posteriors, key=log_posteriors.get)\n",
    "\n",
    "        # compute confidence ratio R = P(c1|instance) / P(c2|instance)\n",
    "        # since we have log-posteriors, first get the log-ratio:\n",
    "        # log-ratio = log(P(c1|instance)) - log(P(c2|instance)) = log(P(c1|instance) / P(c2|instance))\n",
    "        # then ratio R = exp(log-ratio) = P(c1|instance) / P(c2|instance)\n",
    "        log_confidence_ratio = log_posteriors[NON_MALICIOUS_CLASS] - log_posteriors[SCAM_CLASS]\n",
    "        confidence_ratio = np.exp(log_confidence_ratio)\n",
    "\n",
    "        results.append({\n",
    "            ORIGINAL_TEXT_COLUMN: orginal_texts[i],\n",
    "            PREPROCESSED_TEXT_COLUMN: preprocessed_texts[i],\n",
    "            TRUE_LABEL_COLUMN: true_labels[i],\n",
    "            PREDICTED_LABEL_COLUMN: predicted_class,\n",
    "            CONFIDENCE_RATIO_COLUMN: confidence_ratio\n",
    "        })\n",
    "\n",
    "    return pd.DataFrame(results)"
   ]
  },
  {
   "cell_type": "markdown",
   "metadata": {},
   "source": [
    "## 1. Supervised model training"
   ]
  },
  {
   "cell_type": "code",
   "execution_count": 3,
   "metadata": {},
   "outputs": [],
   "source": [
    "# Train data with supervised model\n",
    "priors_supervised, likelihoods_supervised, vocabulary_supervised = train_naive_bayes_supervised(train_df)"
   ]
  },
  {
   "cell_type": "markdown",
   "metadata": {},
   "source": [
    "### 1.1. Prior probabilities of classes P(c)"
   ]
  },
  {
   "cell_type": "code",
   "execution_count": 4,
   "metadata": {},
   "outputs": [
    {
     "data": {
      "text/plain": [
       "class\n",
       "0    0.799499\n",
       "1    0.200501\n",
       "Name: count, dtype: float64"
      ]
     },
     "execution_count": 4,
     "metadata": {},
     "output_type": "execute_result"
    }
   ],
   "source": [
    "# Get prior probabilities for each class\n",
    "priors_supervised"
   ]
  },
  {
   "cell_type": "markdown",
   "metadata": {},
   "source": [
    "### 1.2. Most probable words in each class"
   ]
  },
  {
   "cell_type": "code",
   "execution_count": 5,
   "metadata": {},
   "outputs": [],
   "source": [
    "def get_most_probable_words(likelihoods, target_class, n):\n",
    "    \"\"\"\n",
    "    Gets the top n most probable words in a given target class\n",
    "\n",
    "    Returns:\n",
    "        - most_probable_words: pandas Series of the top n most probable\n",
    "          words in a target class, and their respective probabilities\n",
    "    \"\"\"\n",
    "    # Store likelihoods of target class in pandas Series\n",
    "    target_likelihoods = pd.Series(likelihoods[target_class])\n",
    "    \n",
    "    most_probable_words = target_likelihoods.sort_values(ascending=False).head(n)\n",
    "    \n",
    "    return most_probable_words"
   ]
  },
  {
   "cell_type": "code",
   "execution_count": 6,
   "metadata": {},
   "outputs": [
    {
     "data": {
      "text/plain": [
       ".      0.079330\n",
       ",      0.026033\n",
       "?      0.025585\n",
       "u      0.018923\n",
       "...    0.018755\n",
       "!      0.017187\n",
       "..     0.014948\n",
       ";      0.013156\n",
       "&      0.013100\n",
       "go     0.011141\n",
       "dtype: float64"
      ]
     },
     "execution_count": 6,
     "metadata": {},
     "output_type": "execute_result"
    }
   ],
   "source": [
    "# Get the most probable words for the non-malicious class (supervised model)\n",
    "get_most_probable_words(likelihoods_supervised, NON_MALICIOUS_CLASS, 10)"
   ]
  },
  {
   "cell_type": "code",
   "execution_count": 7,
   "metadata": {},
   "outputs": [
    {
     "data": {
      "text/plain": [
       ".       0.056528\n",
       "!       0.024350\n",
       ",       0.023481\n",
       "call    0.020546\n",
       "£       0.013915\n",
       "free    0.010545\n",
       "/       0.009131\n",
       "2       0.008805\n",
       "&       0.008697\n",
       "?       0.008479\n",
       "dtype: float64"
      ]
     },
     "execution_count": 7,
     "metadata": {},
     "output_type": "execute_result"
    }
   ],
   "source": [
    "# Get the most probable words for the scam class (supervised model)\n",
    "get_most_probable_words(likelihoods_supervised, SCAM_CLASS, 10)"
   ]
  },
  {
   "cell_type": "markdown",
   "metadata": {},
   "source": [
    "### 1.3. Most strongly predictive words in each class"
   ]
  },
  {
   "cell_type": "code",
   "execution_count": 8,
   "metadata": {},
   "outputs": [],
   "source": [
    "def get_most_predictive_words(likelihoods, target_class, n):\n",
    "    \"\"\"\n",
    "    Gets the top n most predictive words in a given target class by\n",
    "    calculating probability ratios (R) against the other class - refer \n",
    "    to equation (7) in the assignment spec.\n",
    "    \n",
    "    Returns:\n",
    "        - most_predictive_words: pandas Series of top n words in a\n",
    "          target class, and their respective probability ratios\n",
    "    \"\"\"\n",
    "    other_class = SCAM_CLASS if target_class == NON_MALICIOUS_CLASS else NON_MALICIOUS_CLASS\n",
    "    \n",
    "    # Store likelihoods of both classes into pandas Series\n",
    "    target_likelihoods = pd.Series(likelihoods[target_class])\n",
    "    other_likelihoods = pd.Series(likelihoods[other_class])\n",
    "\n",
    "    # Calculate probability ratios (R)\n",
    "    ratios = target_likelihoods / other_likelihoods\n",
    "    most_predictive_words = ratios.sort_values(ascending=False).head(n)\n",
    "\n",
    "    return most_predictive_words"
   ]
  },
  {
   "cell_type": "code",
   "execution_count": 9,
   "metadata": {},
   "outputs": [
    {
     "data": {
      "text/plain": [
       ";       60.512960\n",
       "...     57.508771\n",
       "gt      54.075411\n",
       "lt      53.560408\n",
       ":)      47.895364\n",
       "ü       31.930243\n",
       "lor     28.840219\n",
       "hope    24.720188\n",
       "ok      24.720188\n",
       "d       21.115161\n",
       "dtype: float64"
      ]
     },
     "execution_count": 9,
     "metadata": {},
     "output_type": "execute_result"
    }
   ],
   "source": [
    "# Get the most predictive words for the non-malicious class (supervised model)\n",
    "get_most_predictive_words(likelihoods_supervised, NON_MALICIOUS_CLASS, 10)"
   ]
  },
  {
   "cell_type": "code",
   "execution_count": 10,
   "metadata": {},
   "outputs": [
    {
     "data": {
      "text/plain": [
       "prize     99.028373\n",
       "tone      64.077182\n",
       "£         49.708360\n",
       "select    46.601587\n",
       "claim     45.954343\n",
       "paytm     36.892923\n",
       "code      34.951190\n",
       "award     32.038591\n",
       "won       31.067725\n",
       "18        29.125992\n",
       "dtype: float64"
      ]
     },
     "execution_count": 10,
     "metadata": {},
     "output_type": "execute_result"
    }
   ],
   "source": [
    "# Get the most predictive words for the scam class (supervised model)\n",
    "get_most_predictive_words(likelihoods_supervised, SCAM_CLASS, 10)"
   ]
  },
  {
   "cell_type": "markdown",
   "metadata": {},
   "source": [
    "## 2. Supervised model evaluation"
   ]
  },
  {
   "cell_type": "code",
   "execution_count": 11,
   "metadata": {},
   "outputs": [],
   "source": [
    "# Predict the test data with supervised model\n",
    "results_supervised_df = predict_naive_bayes(test_df, priors_supervised, likelihoods_supervised, vocabulary_supervised)"
   ]
  },
  {
   "cell_type": "markdown",
   "metadata": {},
   "source": [
    "### 2.1. Overall accuracy + breakdown by class"
   ]
  },
  {
   "cell_type": "code",
   "execution_count": 12,
   "metadata": {},
   "outputs": [],
   "source": [
    "def evaluate_model(results_df, only_show_accuracy=False):\n",
    "    \"\"\"\n",
    "    Provides evaluation metrics for ML model given a dataframe\n",
    "    instances each containing the true label and predicted label.\n",
    "\n",
    "    Prints:\n",
    "        - Overall accuracy\n",
    "        - Precision for each class (optional)\n",
    "        - Recall for each class (optional)\n",
    "    \"\"\"\n",
    "    true_labels = results_df[TRUE_LABEL_COLUMN]\n",
    "    predicted_labels = results_df[PREDICTED_LABEL_COLUMN]\n",
    "\n",
    "    print(f'\\n Overall accuracy: {accuracy_score(true_labels, predicted_labels):.4f}')\n",
    "\n",
    "    if only_show_accuracy:\n",
    "        return\n",
    "\n",
    "    print(f'\\n Precision (non-malicious class): {precision_score(true_labels, predicted_labels, pos_label=NON_MALICIOUS_CLASS):.4f}')\n",
    "    print(f'\\n Precision (scam class): {precision_score(true_labels, predicted_labels, pos_label=SCAM_CLASS):.4f}')\n",
    "\n",
    "    print(f'\\n Recall (non-malicious class): {recall_score(true_labels, predicted_labels, pos_label=NON_MALICIOUS_CLASS):.4f}')\n",
    "    print(f'\\n Recall (scam class): {recall_score(true_labels, predicted_labels, pos_label=SCAM_CLASS):.4f}')"
   ]
  },
  {
   "cell_type": "code",
   "execution_count": 13,
   "metadata": {},
   "outputs": [
    {
     "name": "stdout",
     "output_type": "stream",
     "text": [
      "\n",
      " Overall accuracy: 0.9750\n",
      "\n",
      " Precision (non-malicious class): 0.9874\n",
      "\n",
      " Precision (scam class): 0.9268\n",
      "\n",
      " Recall (non-malicious class): 0.9812\n",
      "\n",
      " Recall (scam class): 0.9500\n"
     ]
    }
   ],
   "source": [
    "# Evaluate supervised model\n",
    "evaluate_model(results_supervised_df)"
   ]
  },
  {
   "cell_type": "markdown",
   "metadata": {},
   "source": [
    "### 2.2. Out-of-vocabulary words"
   ]
  },
  {
   "cell_type": "code",
   "execution_count": 14,
   "metadata": {},
   "outputs": [],
   "source": [
    "def out_of_vocabulary(test_data, vocabulary):\n",
    "    \"\"\"\n",
    "    Reports out-of-vocabulary words in a test dataset, given a \n",
    "    vocabulary to compare against.\n",
    "    \n",
    "    Prints:\n",
    "        - Percentage of words in the test dataset that are not in the given vocabulary.\n",
    "        - Percentage of instances in the test dataset that contain unknown words.\n",
    "        - Number of instances that were skipped due to having no words in the vocabulary.\n",
    "    \"\"\"\n",
    "    test_data, tokenised_instances = preprocess(test_data)\n",
    "    \n",
    "    total_words = tokenised_instances.apply(len).sum()\n",
    "    total_instances = len(tokenised_instances)\n",
    "\n",
    "    n_unknown_words = 0\n",
    "    n_instances_containing_unknown_words = 0\n",
    "    n_skipped_instances = 0\n",
    "\n",
    "    for instance in tokenised_instances:\n",
    "        known_words = []\n",
    "        unknown_words = []\n",
    "\n",
    "        for token in instance:\n",
    "            if token in vocabulary:\n",
    "                known_words.append(token)\n",
    "            else:\n",
    "                unknown_words.append(token)\n",
    "\n",
    "        if len(unknown_words) > 0:\n",
    "            n_instances_containing_unknown_words += 1\n",
    "            n_unknown_words += len(unknown_words)\n",
    "        \n",
    "        if not known_words:\n",
    "            n_skipped_instances += 1\n",
    "\n",
    "    print(f'Percentage of out-of-vocabulary words in test dataset: {(n_unknown_words / total_words) * 100:.4f}%')\n",
    "    print(f'Percentage of test instances containing out-of-vocabulary words: {(n_instances_containing_unknown_words / total_instances) * 100:.4f}%')\n",
    "    print(f'Number of skipped (unclassified) instances: {n_skipped_instances}')"
   ]
  },
  {
   "cell_type": "code",
   "execution_count": 15,
   "metadata": {},
   "outputs": [
    {
     "name": "stdout",
     "output_type": "stream",
     "text": [
      "Percentage of out-of-vocabulary words in test dataset: 1.6320%\n",
      "Percentage of test instances containing out-of-vocabulary words: 14.2000%\n",
      "Number of skipped (unclassified) instances: 0\n"
     ]
    }
   ],
   "source": [
    "# Find how often the test dataset encountered out-of-vocabulary words\n",
    "out_of_vocabulary(test_df, vocabulary_supervised)"
   ]
  },
  {
   "cell_type": "markdown",
   "metadata": {},
   "source": [
    "### 2.3. Instances classified with high and low confidence"
   ]
  },
  {
   "cell_type": "code",
   "execution_count": 16,
   "metadata": {},
   "outputs": [],
   "source": [
    "N_INSTANCES = 3\n",
    "\n",
    "def find_confidence_extremes(results_df, n, highest_confidences=True):\n",
    "    \"\"\"\n",
    "    Finds and returns a pandas Dataframe with top-n instances classified\n",
    "    with highest confidences, or lowest confidences.\n",
    "    \"\"\"\n",
    "    df = results_df.copy()\n",
    "    \n",
    "    # add a column to represent how close an instance's confidence ratio is to 1\n",
    "    # the closer the instance's ratio is to 1, the lower the classification confidence\n",
    "    # use log-distance from ratio = 1 for a symmetrical confidence scale\n",
    "    # i.e. |log(1/100)| = |log(100/1)|\n",
    "    df['log_distance_from_ratio_of_1'] = np.abs(np.log(df[CONFIDENCE_RATIO_COLUMN]))\n",
    "\n",
    "    # for highest confidence instances, sort descending by log-distance\n",
    "    # for low confidence instances, sort ascending by log-distance\n",
    "    df = df.sort_values(by='log_distance_from_ratio_of_1', ascending=not highest_confidences).head(n)\n",
    "\n",
    "    return df\n",
    "\n",
    "def find_high_confidence_instances_by_class(results_df, target_class, n):\n",
    "    \"\"\"\n",
    "    Finds and returns a pandas Dataframe with top-n instances classified \n",
    "    as the target class with highest confidence.\n",
    "    \"\"\"\n",
    "\n",
    "    # for scam class, find lowest confidence ratios, so sort ascending\n",
    "    # for non-malicious class, find highest confidence ratios, so sort descending\n",
    "    is_sorted_ascending = target_class == SCAM_CLASS\n",
    "\n",
    "    df = results_df[results_df[PREDICTED_LABEL_COLUMN] == target_class]\n",
    "    df = df.sort_values(by=CONFIDENCE_RATIO_COLUMN, ascending=is_sorted_ascending).head(n)\n",
    "\n",
    "    return df"
   ]
  },
  {
   "cell_type": "code",
   "execution_count": 17,
   "metadata": {},
   "outputs": [
    {
     "name": "stdout",
     "output_type": "stream",
     "text": [
      "a. Top 3 instances classified as scam with high confidence:\n",
      "                                      textPreprocessed  confidence_ratio\n",
      "844  . 4 + call £ - * holiday & urgent 18 t landlin...      7.403295e-21\n",
      "985  . 3 4 + ! call : £ offer * holiday & urgent 18...      7.791059e-21\n",
      "460  . . . , please order text call / : customer to...      8.736389e-21\n",
      "\n",
      "b. Top 3 instances classified as non-malicious with high confidence:\n",
      "                                      textPreprocessed  confidence_ratio\n",
      "341  time : rs. transaction number & & & & & & & & ...      9.193742e+37\n",
      "223  ? ? ? ? .. .. u u u u , , ... ... ... ... say ...      2.715691e+29\n",
      "969  . every & & & & & & ; ; ; ; ; ; lt lt lt # # #...      3.191048e+25\n",
      "\n",
      "c. Top 3 instances classfied with low confidence (boundary instances):\n",
      "             textPreprocessed  confidence_ratio\n",
      "90                . call dear          1.014611\n",
      "455              . reply glad          1.041559\n",
      "767  . . tell return re order          0.928124\n",
      "\n"
     ]
    }
   ],
   "source": [
    "# Find instances classified as scam with high confidence\n",
    "df_a = find_high_confidence_instances_by_class(results_supervised_df, SCAM_CLASS, N_INSTANCES)\n",
    "df_a = df_a[[PREPROCESSED_TEXT_COLUMN, CONFIDENCE_RATIO_COLUMN]]\n",
    "print(f'a. Top {N_INSTANCES} instances classified as scam with high confidence:\\n{df_a}\\n')\n",
    "\n",
    "# Find instances classified as non-malicious with high confidence\n",
    "df_b = find_high_confidence_instances_by_class(results_supervised_df, NON_MALICIOUS_CLASS, N_INSTANCES)\n",
    "df_b = df_b[[PREPROCESSED_TEXT_COLUMN, CONFIDENCE_RATIO_COLUMN]]\n",
    "print(f'b. Top {N_INSTANCES} instances classified as non-malicious with high confidence:\\n{df_b}\\n')\n",
    "\n",
    "# Find instances classified with low-confidence (in general, regardless of class)\n",
    "df_c = find_confidence_extremes(results_supervised_df, N_INSTANCES, highest_confidences=False)\n",
    "df_c = df_c[[PREPROCESSED_TEXT_COLUMN, CONFIDENCE_RATIO_COLUMN]]\n",
    "print(f'c. Top {N_INSTANCES} instances classfied with low confidence (boundary instances):\\n{df_c}\\n')"
   ]
  },
  {
   "cell_type": "markdown",
   "metadata": {},
   "source": [
    "## 3. Extending the model with semi-supervised training (option 1: label propagation)"
   ]
  },
  {
   "cell_type": "markdown",
   "metadata": {},
   "source": [
    "#### Extending the Naive Bayes model with label propogation:\n",
    "Hyperparameters to tune:\n",
    "- `k`: only retrain the model on the top-k label-propagated instances classified with high confidence.\n",
    "- `iterations`: do label propagation on a portion of data each time. For $n$ iterations, train $\\frac{1}{n}$ of the unlabelled data for each iteration.\n",
    "\n",
    "A baseline model is *unfiltered* (`k = 'baseline'`) and *non-iterative* (`iterations = 1`)"
   ]
  },
  {
   "cell_type": "code",
   "execution_count": 18,
   "metadata": {},
   "outputs": [],
   "source": [
    "# read unlabelled dataset\n",
    "unlabelled_df = pd.read_csv('./sms_unlabelled.csv')"
   ]
  },
  {
   "cell_type": "code",
   "execution_count": 19,
   "metadata": {},
   "outputs": [],
   "source": [
    "def convert_df(output_df):\n",
    "    \"\"\"\n",
    "    Converts the output dataframe from predict_naive_bayes() \n",
    "    into a dataframe that can be used as input for train_naive_bayes...()\n",
    "\n",
    "    Returns:\n",
    "        - input_df: the converted pandas Dataframe\n",
    "    \"\"\"\n",
    "    input_df = output_df.rename(columns={PREDICTED_LABEL_COLUMN: CLASS_COLUMN})\n",
    "    input_df = input_df[[ORIGINAL_TEXT_COLUMN, PREPROCESSED_TEXT_COLUMN, CLASS_COLUMN]]\n",
    "\n",
    "    return input_df\n",
    "\n",
    "\n",
    "def train_naive_bayes_semisupervised(train_df, unlabelled_df, iterations=1, top_k='baseline'):\n",
    "    \"\"\"\n",
    "    Trains a multinomial Naive Bayes model, extended to support semi-supervised \n",
    "    label propagation.\n",
    "\n",
    "    Returns:\n",
    "        - priors: a pandas Series of the respective prior probabilities for \n",
    "          each class.\n",
    "        - likelihoods: a 2D dictionary which stores all the likelihood\n",
    "          values for each word within each class\n",
    "        - vocabulary: a sorted list of unique words.\n",
    "    \"\"\"\n",
    "    # find how many instances to label per iteration\n",
    "    n_instances_per_iteration = len(unlabelled_df) // iterations\n",
    "\n",
    "    # use supervised model to train labelled data\n",
    "    priors, likelihoods, vocabulary = train_naive_bayes_supervised(train_df)\n",
    "\n",
    "    # create a training dataframe to continuously update model\n",
    "    iterative_train_df = train_df.copy()\n",
    "\n",
    "    for i in range(iterations):\n",
    "        start_index = i * n_instances_per_iteration\n",
    "        final_index = (i + 1) * n_instances_per_iteration if i < iterations - 1 else len(unlabelled_df)\n",
    "        unlabelled_partition_df = unlabelled_df.iloc[start_index:final_index]\n",
    "        \n",
    "        # classify unlabelled partition using the model from the previous iteration\n",
    "        label_propagated_df = predict_naive_bayes(unlabelled_partition_df, priors, likelihoods, vocabulary)\n",
    "\n",
    "        # Filter top-k confidently labelled instances if needed\n",
    "        if top_k != 'baseline':\n",
    "            label_propagated_df = find_confidence_extremes(label_propagated_df, top_k)\n",
    "\n",
    "        # retrain model with partially expanded dataset\n",
    "        iterative_train_df = pd.concat([iterative_train_df, convert_df(label_propagated_df)], ignore_index=True)\n",
    "        priors, likelihoods, vocabulary = train_naive_bayes_supervised(iterative_train_df)\n",
    "\n",
    "        # track training progress in real-time\n",
    "        print(f'Iteration: {i + 1}/{iterations}, Training size: {len(iterative_train_df)}')\n",
    "\n",
    "    return priors, likelihoods, vocabulary\n",
    "\n",
    "\n",
    "def tune_hyperparameters(train_df, unlabelled_df, validation_df, iteration_values, k_values):\n",
    "    \"\"\"\n",
    "    Uses grid search to evaluate hyperparameter combinations of <k> and <iterations>,\n",
    "    and logs each combination's accuracy and recall (scam class) on the validation set\n",
    "\n",
    "    Returns:\n",
    "        - combinations: a list of all the different combinations, each is a dictionary\n",
    "          with keys: iterations, k, accuracy, recall\n",
    "    \"\"\"\n",
    "    combinations = []\n",
    "\n",
    "    for iterations in iteration_values:\n",
    "        for k in k_values:\n",
    "            print(f'Combination: iterations={iterations}, k={k}')\n",
    "\n",
    "            # train and evaluate (log accuracy and recall)\n",
    "            priors, likelihoods, vocabulary = train_naive_bayes_semisupervised(train_df, unlabelled_df, iterations, k)\n",
    "            results_df = predict_naive_bayes(validation_df, priors, likelihoods, vocabulary)\n",
    "\n",
    "            true_labels = results_df[TRUE_LABEL_COLUMN]\n",
    "            predicted_labels = results_df[PREDICTED_LABEL_COLUMN]\n",
    "\n",
    "            accuracy = accuracy_score(true_labels, predicted_labels)\n",
    "            recall = recall_score(true_labels, predicted_labels, pos_label=SCAM_CLASS)\n",
    "\n",
    "            print(f'Accuracy: {accuracy:.4f}, Recall (scam): {recall:.4f}\\n')\n",
    "\n",
    "            combinations.append({'iterations': iterations, 'k': k, 'accuracy': accuracy, 'recall': recall})\n",
    "\n",
    "    return combinations"
   ]
  },
  {
   "cell_type": "code",
   "execution_count": 20,
   "metadata": {},
   "outputs": [
    {
     "name": "stdout",
     "output_type": "stream",
     "text": [
      "Combination: iterations=1, k=baseline\n",
      "Iteration: 1/1, Training size: 3792\n",
      "Accuracy: 0.9799, Recall (scam): 0.9375\n",
      "\n",
      "Combination: iterations=1, k=100\n",
      "Iteration: 1/1, Training size: 1900\n",
      "Accuracy: 0.9749, Recall (scam): 0.9167\n",
      "\n",
      "Combination: iterations=1, k=200\n",
      "Iteration: 1/1, Training size: 2000\n",
      "Accuracy: 0.9749, Recall (scam): 0.9167\n",
      "\n",
      "Combination: iterations=1, k=300\n",
      "Iteration: 1/1, Training size: 2100\n",
      "Accuracy: 0.9749, Recall (scam): 0.9375\n",
      "\n",
      "Combination: iterations=1, k=400\n",
      "Iteration: 1/1, Training size: 2200\n",
      "Accuracy: 0.9749, Recall (scam): 0.9375\n",
      "\n",
      "Combination: iterations=2, k=baseline\n",
      "Iteration: 1/2, Training size: 2797\n",
      "Iteration: 2/2, Training size: 3792\n",
      "Accuracy: 0.9799, Recall (scam): 0.9375\n",
      "\n",
      "Combination: iterations=2, k=100\n",
      "Iteration: 1/2, Training size: 1900\n",
      "Iteration: 2/2, Training size: 2000\n",
      "Accuracy: 0.9749, Recall (scam): 0.9167\n",
      "\n",
      "Combination: iterations=2, k=200\n",
      "Iteration: 1/2, Training size: 2000\n",
      "Iteration: 2/2, Training size: 2200\n",
      "Accuracy: 0.9698, Recall (scam): 0.9167\n",
      "\n",
      "Combination: iterations=2, k=300\n",
      "Iteration: 1/2, Training size: 2100\n",
      "Iteration: 2/2, Training size: 2400\n",
      "Accuracy: 0.9799, Recall (scam): 0.9583\n",
      "\n",
      "Combination: iterations=2, k=400\n",
      "Iteration: 1/2, Training size: 2200\n",
      "Iteration: 2/2, Training size: 2600\n",
      "Accuracy: 0.9749, Recall (scam): 0.9583\n",
      "\n",
      "Combination: iterations=3, k=baseline\n",
      "Iteration: 1/3, Training size: 2463\n",
      "Iteration: 2/3, Training size: 3127\n",
      "Iteration: 3/3, Training size: 3792\n",
      "Accuracy: 0.9849, Recall (scam): 0.9583\n",
      "\n",
      "Combination: iterations=3, k=100\n",
      "Iteration: 1/3, Training size: 1900\n",
      "Iteration: 2/3, Training size: 2000\n",
      "Iteration: 3/3, Training size: 2100\n",
      "Accuracy: 0.9749, Recall (scam): 0.9375\n",
      "\n",
      "Combination: iterations=3, k=200\n",
      "Iteration: 1/3, Training size: 2000\n",
      "Iteration: 2/3, Training size: 2200\n",
      "Iteration: 3/3, Training size: 2400\n",
      "Accuracy: 0.9799, Recall (scam): 0.9583\n",
      "\n",
      "Combination: iterations=3, k=300\n",
      "Iteration: 1/3, Training size: 2100\n",
      "Iteration: 2/3, Training size: 2400\n",
      "Iteration: 3/3, Training size: 2700\n",
      "Accuracy: 0.9749, Recall (scam): 0.9583\n",
      "\n",
      "Combination: iterations=3, k=400\n",
      "Iteration: 1/3, Training size: 2200\n",
      "Iteration: 2/3, Training size: 2600\n",
      "Iteration: 3/3, Training size: 3000\n",
      "Accuracy: 0.9799, Recall (scam): 0.9583\n",
      "\n",
      "Combination: iterations=4, k=baseline\n",
      "Iteration: 1/4, Training size: 2298\n",
      "Iteration: 2/4, Training size: 2797\n",
      "Iteration: 3/4, Training size: 3294\n",
      "Iteration: 4/4, Training size: 3792\n",
      "Accuracy: 0.9799, Recall (scam): 0.9375\n",
      "\n",
      "Combination: iterations=4, k=100\n",
      "Iteration: 1/4, Training size: 1900\n",
      "Iteration: 2/4, Training size: 2000\n",
      "Iteration: 3/4, Training size: 2100\n",
      "Iteration: 4/4, Training size: 2200\n",
      "Accuracy: 0.9698, Recall (scam): 0.9167\n",
      "\n",
      "Combination: iterations=4, k=200\n",
      "Iteration: 1/4, Training size: 2000\n",
      "Iteration: 2/4, Training size: 2200\n",
      "Iteration: 3/4, Training size: 2400\n",
      "Iteration: 4/4, Training size: 2600\n",
      "Accuracy: 0.9749, Recall (scam): 0.9583\n",
      "\n",
      "Combination: iterations=4, k=300\n",
      "Iteration: 1/4, Training size: 2100\n",
      "Iteration: 2/4, Training size: 2400\n",
      "Iteration: 3/4, Training size: 2700\n",
      "Iteration: 4/4, Training size: 3000\n",
      "Accuracy: 0.9799, Recall (scam): 0.9583\n",
      "\n",
      "Combination: iterations=4, k=400\n",
      "Iteration: 1/4, Training size: 2200\n",
      "Iteration: 2/4, Training size: 2600\n",
      "Iteration: 3/4, Training size: 3000\n",
      "Iteration: 4/4, Training size: 3400\n",
      "Accuracy: 0.9799, Recall (scam): 0.9583\n",
      "\n",
      "Combination: iterations=5, k=baseline\n",
      "Iteration: 1/5, Training size: 2199\n",
      "Iteration: 2/5, Training size: 2597\n",
      "Iteration: 3/5, Training size: 2996\n",
      "Iteration: 4/5, Training size: 3393\n",
      "Iteration: 5/5, Training size: 3792\n",
      "Accuracy: 0.9849, Recall (scam): 0.9583\n",
      "\n",
      "Combination: iterations=5, k=100\n",
      "Iteration: 1/5, Training size: 1900\n",
      "Iteration: 2/5, Training size: 2000\n",
      "Iteration: 3/5, Training size: 2100\n",
      "Iteration: 4/5, Training size: 2200\n",
      "Iteration: 5/5, Training size: 2300\n",
      "Accuracy: 0.9799, Recall (scam): 0.9583\n",
      "\n",
      "Combination: iterations=5, k=200\n",
      "Iteration: 1/5, Training size: 2000\n",
      "Iteration: 2/5, Training size: 2200\n",
      "Iteration: 3/5, Training size: 2400\n",
      "Iteration: 4/5, Training size: 2600\n",
      "Iteration: 5/5, Training size: 2800\n",
      "Accuracy: 0.9749, Recall (scam): 0.9583\n",
      "\n",
      "Combination: iterations=5, k=300\n",
      "Iteration: 1/5, Training size: 2100\n",
      "Iteration: 2/5, Training size: 2400\n",
      "Iteration: 3/5, Training size: 2700\n",
      "Iteration: 4/5, Training size: 3000\n",
      "Iteration: 5/5, Training size: 3300\n",
      "Accuracy: 0.9849, Recall (scam): 0.9583\n",
      "\n",
      "Combination: iterations=5, k=400\n",
      "Iteration: 1/5, Training size: 2199\n",
      "Iteration: 2/5, Training size: 2597\n",
      "Iteration: 3/5, Training size: 2996\n",
      "Iteration: 4/5, Training size: 3393\n",
      "Iteration: 5/5, Training size: 3792\n",
      "Accuracy: 0.9849, Recall (scam): 0.9583\n",
      "\n"
     ]
    }
   ],
   "source": [
    "# 90/10 train-test split\n",
    "train_split_df, validation_split_df = train_test_split(train_df, test_size = 0.1, random_state=777)\n",
    "\n",
    "# Define hyperparameters\n",
    "k_values = ['baseline', 100, 200, 300, 400]\n",
    "iteration_values = [1, 2, 3, 4, 5]\n",
    "\n",
    "# Tune hyperparameters, and visualise results using heatmap based on accuracy or recall\n",
    "# DISCLAIMER: the tuning process takes around over 4 to 10 minutes (depending on environment and hardware)\n",
    "combinations = tune_hyperparameters(train_split_df, unlabelled_df, validation_split_df, iteration_values, k_values)\n",
    "combinations_df = pd.DataFrame(combinations)"
   ]
  },
  {
   "cell_type": "code",
   "execution_count": 21,
   "metadata": {},
   "outputs": [
    {
     "data": {
      "image/png": "[encoded data removed]",
      "text/plain": [
       "<Figure size 700x500 with 2 Axes>"
      ]
     },
     "metadata": {},
     "output_type": "display_data"
    },
    {
     "data": {
      "image/png": "[encoded data removed]",
      "text/plain": [
       "<Figure size 700x500 with 2 Axes>"
      ]
     },
     "metadata": {},
     "output_type": "display_data"
    }
   ],
   "source": [
    "# Heatmap based on accuracy\n",
    "pivot_accuracy = combinations_df.pivot(index='iterations', columns='k', values='accuracy')\n",
    "\n",
    "plt.figure(figsize=(7, 5))\n",
    "sns.heatmap(pivot_accuracy, annot=True, fmt='.4f', cmap='Oranges', linewidths=0.5, linecolor='black', cbar_kws={'label': 'Accuracy'})\n",
    "plt.title('Validation set accuracy for different hyperparameter combinations')\n",
    "plt.ylabel('Number of iterations')\n",
    "plt.xlabel('Number of most confident label-propagated instances used (k)')\n",
    "plt.tight_layout()\n",
    "plt.show()\n",
    "\n",
    "# Heatmap based on recall (scam class)\n",
    "pivot_recall = combinations_df.pivot(index='iterations', columns='k', values='recall')\n",
    "\n",
    "plt.figure(figsize=(7, 5))\n",
    "sns.heatmap(pivot_recall, annot=True, fmt='.4f', cmap='Blues', linewidths=0.5, linecolor='black', cbar_kws={'label': 'Recall (scam class)'})\n",
    "plt.title('Validation set recall (scam class) for different hyperparameter combinations')\n",
    "plt.ylabel('Number of iterations')\n",
    "plt.xlabel('Number of most confident label-propagated instances used (k)')\n",
    "plt.tight_layout()\n",
    "plt.show()"
   ]
  },
  {
   "cell_type": "markdown",
   "metadata": {},
   "source": [
    "## 4. Semi-supervised model evaluation"
   ]
  },
  {
   "cell_type": "markdown",
   "metadata": {},
   "source": [
    "### 4.1. Model performance"
   ]
  },
  {
   "cell_type": "code",
   "execution_count": 22,
   "metadata": {},
   "outputs": [
    {
     "name": "stdout",
     "output_type": "stream",
     "text": [
      "Iteration: 1/5, Training size: 2399\n",
      "Iteration: 2/5, Training size: 2797\n",
      "Iteration: 3/5, Training size: 3196\n",
      "Iteration: 4/5, Training size: 3593\n",
      "Iteration: 5/5, Training size: 3992\n",
      "\n",
      " Overall accuracy: 0.9780\n",
      "\n",
      " Precision (non-malicious class): 0.9887\n",
      "\n",
      " Precision (scam class): 0.9363\n",
      "\n",
      " Recall (non-malicious class): 0.9838\n",
      "\n",
      " Recall (scam class): 0.9550\n"
     ]
    }
   ],
   "source": [
    "# Train the entire train dataset with the optimal semi-supervised model (k=baseline, iterations=5)\n",
    "priors_semisupervised, likelihoods_semisupervised, vocabulary_semisupervised = train_naive_bayes_semisupervised(train_df, unlabelled_df, iterations=5, top_k='baseline')\n",
    "\n",
    "# Predict the test data with semi-supervised model\n",
    "results_semisupervised_df = predict_naive_bayes(test_df, priors_semisupervised, likelihoods_semisupervised, vocabulary_semisupervised)\n",
    "\n",
    "# Evaluate predictions\n",
    "evaluate_model(results_semisupervised_df)"
   ]
  },
  {
   "cell_type": "markdown",
   "metadata": {},
   "source": [
    "### 4.2. Model representation"
   ]
  },
  {
   "cell_type": "markdown",
   "metadata": {},
   "source": [
    "#### Model confidence (confidence ratios of supervised vs semi-supervised models)"
   ]
  },
  {
   "cell_type": "code",
   "execution_count": 23,
   "metadata": {},
   "outputs": [
    {
     "data": {
      "image/png": "[encoded data removed]",
      "text/plain": [
       "<Figure size 700x500 with 1 Axes>"
      ]
     },
     "metadata": {},
     "output_type": "display_data"
    },
    {
     "name": "stdout",
     "output_type": "stream",
     "text": [
      "Median confidence ratios of:\n",
      "- supervised model: 6.7668\n",
      "- semi-supervised model: 7.7430\n",
      "\n",
      "\n",
      "IQR of confidence ratios of:\n",
      "- supervised model: 9.9249\n",
      "- semi-supervised model: 11.4823\n"
     ]
    }
   ],
   "source": [
    "# log-transform confidence ratios to get a symmetrical scale for comparing confident vs non-confident instances\n",
    "log_confidence_ratios_supervised = np.log(results_supervised_df[CONFIDENCE_RATIO_COLUMN])\n",
    "log_confidence_ratios_semisupervised = np.log(results_semisupervised_df[CONFIDENCE_RATIO_COLUMN])\n",
    "\n",
    "# Plot boxplots showing the distributions of log-confidence ratios for supervised vs. semi-supervised model\n",
    "plt.figure(figsize=(7, 5))\n",
    "plt.boxplot(\n",
    "    [log_confidence_ratios_semisupervised, log_confidence_ratios_supervised],\n",
    "    orientation='horizontal',\n",
    "    widths=(0.4, 0.4),\n",
    "    tick_labels=['semi-supervised', 'supervised'],\n",
    "    patch_artist=True,\n",
    "    medianprops=dict(color='black'),\n",
    "    whiskerprops=dict(color='gray'),\n",
    "    capprops=dict(color='gray'),\n",
    "    flierprops=dict(markerfacecolor='black', marker='x', markersize=3, linestyle='none')\n",
    ")\n",
    "\n",
    "plt.title(\"Distribution of Log-confidence ratios for supervised vs semi-supervised models\")\n",
    "plt.xlabel(\"Log-confidence ratios\")\n",
    "plt.ylabel(\"Model\")\n",
    "plt.tight_layout()\n",
    "plt.show()\n",
    "\n",
    "# Get summary statistics of the distributions of log-confidence ratios for supervised vs. semi-supervised model\n",
    "print('Median confidence ratios of:')\n",
    "print(f'- supervised model: {log_confidence_ratios_supervised.median():.4f}')\n",
    "print(f'- semi-supervised model: {log_confidence_ratios_semisupervised.median():.4f}')\n",
    "print('\\n')\n",
    "print('IQR of confidence ratios of:')\n",
    "print(f'- supervised model: {log_confidence_ratios_supervised.quantile(0.75) - log_confidence_ratios_supervised.quantile(0.25):.4f}')\n",
    "print(f'- semi-supervised model: {log_confidence_ratios_semisupervised.quantile(0.75) - log_confidence_ratios_semisupervised.quantile(0.25):.4f}')"
   ]
  },
  {
   "cell_type": "markdown",
   "metadata": {},
   "source": [
    "#### Most strongly predictive words in each class (semi-supervised model)"
   ]
  },
  {
   "cell_type": "code",
   "execution_count": 24,
   "metadata": {},
   "outputs": [
    {
     "data": {
      "text/plain": [
       "gt     92.459497\n",
       "lt     92.459497\n",
       ":)     83.511803\n",
       ";      71.747244\n",
       "ü      59.651288\n",
       "...    50.774608\n",
       "lor    48.715219\n",
       "da     46.229748\n",
       ":-)    35.790773\n",
       "wat    32.311114\n",
       "dtype: float64"
      ]
     },
     "execution_count": 24,
     "metadata": {},
     "output_type": "execute_result"
    }
   ],
   "source": [
    "# Get the most predictive words for the non-malicious class (semi-supervised model)\n",
    "get_most_predictive_words(likelihoods_semisupervised, NON_MALICIOUS_CLASS, 10)"
   ]
  },
  {
   "cell_type": "code",
   "execution_count": 25,
   "metadata": {},
   "outputs": [
    {
     "data": {
      "text/plain": [
       "prize         233.356235\n",
       "tone          132.771651\n",
       "claim          95.890637\n",
       "award          78.455975\n",
       "code           76.444284\n",
       "guaranteed     74.432592\n",
       "£              72.420900\n",
       "paytm          66.385825\n",
       ">              60.350750\n",
       "ringtone       60.350750\n",
       "dtype: float64"
      ]
     },
     "execution_count": 25,
     "metadata": {},
     "output_type": "execute_result"
    }
   ],
   "source": [
    "# Get the most predictive words for the scam class (semi-supervised model)\n",
    "get_most_predictive_words(likelihoods_semisupervised, SCAM_CLASS, 10)"
   ]
  }
 ],
 "metadata": {
  "kernelspec": {
   "display_name": "ml-a01-venv",
   "language": "python",
   "name": "python3"
  },
  "language_info": {
   "codemirror_mode": {
    "name": "ipython",
    "version": 3
   },
   "file_extension": ".py",
   "mimetype": "text/x-python",
   "name": "python",
   "nbconvert_exporter": "python",
   "pygments_lexer": "ipython3",
   "version": "3.12.7"
  }
 },
 "nbformat": 4,
 "nbformat_minor": 4
}
